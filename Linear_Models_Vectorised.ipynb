{
  "nbformat": 4,
  "nbformat_minor": 0,
  "metadata": {
    "colab": {
      "provenance": []
    },
    "kernelspec": {
      "name": "python3",
      "display_name": "Python 3"
    },
    "language_info": {
      "name": "python"
    }
  },
  "cells": [
    {
      "cell_type": "markdown",
      "source": [
        "#***LINEAR*** ***REGRESSION***\n",
        "\n",
        "\n"
      ],
      "metadata": {
        "id": "sxzfqcLGVXAG"
      }
    },
    {
      "cell_type": "code",
      "source": [
        "import pandas as pd\n",
        "import numpy as np\n",
        "import random\n",
        "import time\n",
        "from sklearn.datasets import load_diabetes\n",
        "from sklearn.metrics import r2_score\n",
        "from sklearn.linear_model import LinearRegression\n",
        "from sklearn.model_selection import train_test_split"
      ],
      "metadata": {
        "id": "1Y3LWlY_AaqH"
      },
      "execution_count": null,
      "outputs": []
    },
    {
      "cell_type": "markdown",
      "source": [
        "#Linear Algebra way for linear regression"
      ],
      "metadata": {
        "id": "osagM0Y5RS2C"
      }
    },
    {
      "cell_type": "code",
      "source": [
        "X,y = load_diabetes(return_X_y = True)\n",
        "X_train, X_test, y_train, y_test = train_test_split(X,y, test_size = 0.2, random_state = 46)"
      ],
      "metadata": {
        "id": "ZiaDxR4XRUND"
      },
      "execution_count": null,
      "outputs": []
    },
    {
      "cell_type": "code",
      "source": [
        "lr = LinearRegression()\n",
        "lr.fit(X_train, y_train)\n",
        "y_pred = lr.predict(X_test)\n",
        "print(r2_score(y_test,y_pred))\n",
        "print(lr.intercept_)\n",
        "print(lr.coef_)"
      ],
      "metadata": {
        "colab": {
          "base_uri": "https://localhost:8080/"
        },
        "id": "4qf4wBkTUZ-S",
        "outputId": "52fc67a1-c3e4-4a12-c3e6-ba39d09a216c"
      },
      "execution_count": null,
      "outputs": [
        {
          "output_type": "stream",
          "name": "stdout",
          "text": [
            "0.4411325916951332\n",
            "150.0663440989284\n",
            "[ 1.35669119e+01 -2.10613526e+02  5.21704437e+02  3.35877974e+02\n",
            " -7.86143093e+02  4.45357851e+02  1.77438991e+02  2.57841824e+02\n",
            "  7.89195708e+02 -1.05677993e-01]\n"
          ]
        }
      ]
    },
    {
      "cell_type": "code",
      "source": [
        "class LALR_Regression:\n",
        "\n",
        "  def __init__(self):\n",
        "    self.intercept = 0\n",
        "    self.coef = 0\n",
        "\n",
        "  def fit(self,X_train,y_train):\n",
        "    X_train = np.insert(X_train,0,1,axis=1)\n",
        "\n",
        "    result = np.linalg.inv( np.dot(X_train.T, X_train)).dot( np.dot(X_train.T, y_train) )\n",
        "    self.intercept = result[0]\n",
        "    self.coef = result[1:]\n",
        "\n",
        "    print(self.intercept)\n",
        "    print(self.coef)\n",
        "\n",
        "  def predict(self,X_test):\n",
        "    return np.dot(X_test, self.coef) + self.intercept\n",
        "\n",
        "\n",
        "md = LALR_Regression()\n",
        "md.fit(X_train, y_train)\n",
        "y_pred = md.predict(X_test)\n",
        "print(r2_score(y_test,y_pred))"
      ],
      "metadata": {
        "colab": {
          "base_uri": "https://localhost:8080/"
        },
        "id": "wLNqB6L0Rxa2",
        "outputId": "b37dbe67-21e3-442b-e1e3-5ea1e87fa175"
      },
      "execution_count": null,
      "outputs": [
        {
          "output_type": "stream",
          "name": "stdout",
          "text": [
            "150.06634409892834\n",
            "[ 1.35669119e+01 -2.10613526e+02  5.21704437e+02  3.35877974e+02\n",
            " -7.86143093e+02  4.45357851e+02  1.77438991e+02  2.57841824e+02\n",
            "  7.89195708e+02 -1.05677993e-01]\n",
            "0.44113259169513375\n"
          ]
        }
      ]
    },
    {
      "cell_type": "code",
      "source": [],
      "metadata": {
        "id": "ju23dfteFW5J"
      },
      "execution_count": null,
      "outputs": []
    },
    {
      "cell_type": "markdown",
      "source": [
        "# Gradient Descent"
      ],
      "metadata": {
        "id": "KW3gqCbDnjgm"
      }
    },
    {
      "cell_type": "markdown",
      "source": [
        "### Batch Gd"
      ],
      "metadata": {
        "id": "S0kx85MhAS9Y"
      }
    },
    {
      "cell_type": "code",
      "source": [
        "X,y = load_diabetes(return_X_y = True)\n",
        "X_train, X_test, y_train, y_test = train_test_split(X,y, test_size = 0.2, random_state = 25)"
      ],
      "metadata": {
        "id": "4leKApsnB4t0"
      },
      "execution_count": null,
      "outputs": []
    },
    {
      "cell_type": "code",
      "source": [
        "class BGD_Regressor:\n",
        "  def __init__(self, lr= 0.01, epoch = 100):\n",
        "    self.lr = lr\n",
        "    self.epoch = epoch\n",
        "\n",
        "  def fit(self, X_train, y_train):\n",
        "    self.coef = np.ones([X_train.shape[1],])\n",
        "    self.intercept = 0\n",
        "\n",
        "    for i in range(self.epoch):\n",
        "      y_pred = np.dot(X_train, self.coef) + self.intercept\n",
        "\n",
        "      inter_der = -2 * np.mean(y_train - y_pred)\n",
        "\n",
        "      derivative = -2 * np.dot((y_train - y_pred),X_train)/X_train.shape[0]\n",
        "\n",
        "      self.coef -= self.lr * derivative\n",
        "      self.intercept -= self.lr * inter_der\n",
        "\n",
        "    print(self.intercept)\n",
        "    print(self.coef, self.coef.shape)\n",
        "\n",
        "\n",
        "  def predict(self,X_test):\n",
        "    return np.dot(X_test, self.coef) + self.intercept\n",
        "\n",
        "\n",
        "md = BGD_Regressor(.7, 300)\n",
        "md.fit(X_train,y_train)\n",
        "y_pred = md.predict(X_test)\n",
        "print(r2_score(y_test,y_pred))\n"
      ],
      "metadata": {
        "colab": {
          "base_uri": "https://localhost:8080/"
        },
        "id": "QK4gBgkdAzn4",
        "outputId": "61ed70da-4e82-4114-e05f-05473066f002"
      },
      "execution_count": null,
      "outputs": [
        {
          "output_type": "stream",
          "name": "stdout",
          "text": [
            "152.24164517800864\n",
            "[  53.06170858  -72.11243384  373.01253576  304.61059172   -9.42092628\n",
            "  -61.51657456 -191.03298912  137.21429911  325.96852732  115.07262459] (10,)\n",
            "0.4335093033483943\n"
          ]
        }
      ]
    },
    {
      "cell_type": "code",
      "source": [
        "LinReg  = LinearRegression()\n",
        "LinReg.fit(X_train,y_train)\n",
        "y_pred = LinReg.predict(X_test)\n",
        "print(LinReg.intercept_)\n",
        "print(LinReg.coef_)\n",
        "print(r2_score(y_test,y_pred))"
      ],
      "metadata": {
        "colab": {
          "base_uri": "https://localhost:8080/"
        },
        "id": "LoJ3Wh6XDodG",
        "outputId": "9910c8c7-eff8-47e9-df32-86a1c74fc82d"
      },
      "execution_count": null,
      "outputs": [
        {
          "output_type": "stream",
          "name": "stdout",
          "text": [
            "151.96412304279053\n",
            "[  -4.4110389  -176.14975887  515.70916826  415.68912805 -682.69131823\n",
            "  328.41582506   92.97442489  210.1419437   700.10965675    4.96125582]\n",
            "0.4373000617984171\n"
          ]
        }
      ]
    },
    {
      "cell_type": "markdown",
      "source": [
        "###Stochastic GD"
      ],
      "metadata": {
        "id": "yVSQzMJHntq_"
      }
    },
    {
      "cell_type": "code",
      "source": [
        "X,y = load_diabetes(return_X_y = True)\n",
        "X_train, X_test, y_train, y_test = train_test_split(X,y, test_size = 0.2, random_state = 27)"
      ],
      "metadata": {
        "id": "iOXQcipVoSjb"
      },
      "execution_count": null,
      "outputs": []
    },
    {
      "cell_type": "code",
      "source": [
        "class SGD_Regressor:\n",
        "  def __init__(self, lr = 0.01, epoch = 1000, adaptive_lr = False):\n",
        "    self.lr = lr\n",
        "    self.epoch = epoch\n",
        "    self.adaptive_lr = adaptive_lr\n",
        "\n",
        "  def fit(self, X_train, y_train):\n",
        "    rows, col = X_train.shape\n",
        "    self.intercept = 0\n",
        "    self.coef = np.ones([col,])\n",
        "    self.start_time = time.time()\n",
        "    lr = self.lr\n",
        "    if(self.adaptive_lr):\n",
        "        print(\"Initial lr: \", lr)\n",
        "\n",
        "    for i in range(self.epoch):\n",
        "      for j in range(rows):\n",
        "\n",
        "        id = np.random.randint(0,rows)\n",
        "        y_pred = np.dot(X_train[id], self.coef) + self.intercept\n",
        "\n",
        "        intercept_diff = -2 * (y_train[id] - y_pred)\n",
        "        coef_diff = -2 * np.dot((y_train[id] - y_pred) ,X_train[id])\n",
        "\n",
        "        if(intercept_diff < 1e-4 and coef_diff.all() < 1e-4):\n",
        "          print(\"Reached convergence before the end of epoches\")\n",
        "          print(self.intercept)\n",
        "          print(self.coef)\n",
        "          return\n",
        "\n",
        "\n",
        "        if(self.adaptive_lr):\n",
        "          lr = self.schedule()\n",
        "\n",
        "        self.intercept -= self.lr * intercept_diff\n",
        "        self.coef -= self.lr * coef_diff\n",
        "\n",
        "\n",
        "    print(self.intercept)\n",
        "    print(self.coef)\n",
        "    if(self.adaptive_lr):\n",
        "        print(\"Final lr: \", lr)\n",
        "\n",
        "  def schedule(self):\n",
        "    t0 = self.lr\n",
        "    t = time.time() - self.start_time\n",
        "    return t0/(1+t)\n",
        "\n",
        "  def predict(self, X_test):\n",
        "    return np.dot(X_test, self.coef) + self.intercept\n",
        "\n",
        "\n",
        "md = SGD_Regressor(lr = .01,epoch = 500, adaptive_lr = True)\n",
        "md.fit(X_train,y_train)\n",
        "y_pred = md.predict(X_test)\n",
        "print(r2_score(y_test,y_pred))"
      ],
      "metadata": {
        "id": "iav2zMVsJwLb",
        "colab": {
          "base_uri": "https://localhost:8080/"
        },
        "outputId": "38b2bdcf-8830-45ae-a33f-aa53f06f7d55"
      },
      "execution_count": null,
      "outputs": [
        {
          "output_type": "stream",
          "name": "stdout",
          "text": [
            "Initial lr:  0.01\n",
            "156.22906558488546\n",
            "[  -6.57670206 -300.52455456  485.0513865   399.30240987  -82.68580897\n",
            "  -77.45643725 -214.81564986  112.06207057  480.29335001   79.85202978]\n",
            "Final lr:  0.0018623691712769247\n",
            "0.4032520292013083\n"
          ]
        }
      ]
    },
    {
      "cell_type": "code",
      "source": [
        "from sklearn.linear_model import SGDRegressor\n",
        "sgd = SGDRegressor()\n",
        "sgd.fit(X_train, y_train)\n",
        "y_pred = sgd.predict(X_test)\n",
        "print(sgd.intercept_)\n",
        "print(sgd.coef_)\n",
        "print(r2_score(y_test,y_pred))"
      ],
      "metadata": {
        "colab": {
          "base_uri": "https://localhost:8080/"
        },
        "id": "QLo6PDENoa0z",
        "outputId": "fbf7791a-bb8a-46d6-c8a4-35b06240b56a"
      },
      "execution_count": null,
      "outputs": [
        {
          "output_type": "stream",
          "name": "stdout",
          "text": [
            "[151.34576838]\n",
            "[  56.74444007  -35.99795472  273.88284985  172.56738214   35.34318523\n",
            "   10.97722499 -155.29066028  143.49524708  232.39871962  122.83770802]\n",
            "0.3959456432008617\n"
          ]
        },
        {
          "output_type": "stream",
          "name": "stderr",
          "text": [
            "/usr/local/lib/python3.10/dist-packages/sklearn/linear_model/_stochastic_gradient.py:1548: ConvergenceWarning: Maximum number of iteration reached before convergence. Consider increasing max_iter to improve the fit.\n",
            "  warnings.warn(\n"
          ]
        }
      ]
    },
    {
      "cell_type": "markdown",
      "source": [
        "###Mini Batch GD"
      ],
      "metadata": {
        "id": "JivMtsQTu7C3"
      }
    },
    {
      "cell_type": "code",
      "source": [
        "X,y = load_diabetes(return_X_y = True)\n",
        "X_train, X_test, y_train, y_test = train_test_split(X,y, test_size = 0.2, random_state = 36)"
      ],
      "metadata": {
        "id": "8DFpTJScvzgZ"
      },
      "execution_count": null,
      "outputs": []
    },
    {
      "cell_type": "code",
      "source": [
        "class MBGD_Regressor():\n",
        "  def __init__(self, batch_size,lr = 0.01, epoch =100, adaptive_lr = False):\n",
        "    self.lr = lr\n",
        "    self.epoch = epoch\n",
        "    self.batch_size = batch_size\n",
        "    self.adaptive_lr = adaptive_lr\n",
        "\n",
        "  def fit(self, X_train, y_train):\n",
        "    self.intercept = 0\n",
        "    self.coef = np.ones(X_train.shape[1])\n",
        "    batches = int(X_train.shape[0]/self.batch_size)\n",
        "    self.start_time = time.time()\n",
        "    lr = self.lr\n",
        "\n",
        "    if(self.adaptive_lr):\n",
        "      print(\"Initial lr: \",lr)\n",
        "\n",
        "    for i in range(self.epoch):\n",
        "      for j in range(batches):\n",
        "\n",
        "        id = random.sample(range(X_train.shape[0]), self.batch_size)\n",
        "\n",
        "        y_pred = np.dot(X_train[id], self.coef) + self.intercept\n",
        "\n",
        "        intercept_diff = -2 * np.mean(y_train[id] - y_pred)\n",
        "        coef_diff = -2 * np.dot((y_train[id] - y_pred), X_train[id])/self.batch_size\n",
        "\n",
        "        if(self.adaptive_lr):\n",
        "          lr = self.schedule()\n",
        "\n",
        "        self.intercept -= lr * intercept_diff\n",
        "        self.coef -= lr * coef_diff\n",
        "\n",
        "    print(self.intercept)\n",
        "    print(self.coef)\n",
        "    if(self.adaptive_lr):\n",
        "      print(\"Initial lr: \",lr)\n",
        "\n",
        "  def schedule(self):\n",
        "    t0 = self.lr\n",
        "    t = time.time() - self.start_time\n",
        "    return t0/(1+t)\n",
        "\n",
        "  def predict(self,X_test):\n",
        "    return np.dot(X_test, self.coef) + self.intercept\n",
        "\n",
        "md = MBGD_Regressor(lr = 0.09, epoch = 300, batch_size = 30, adaptive_lr = True)\n",
        "md.fit(X_train,y_train)\n",
        "y_pred = md.predict(X_test)\n",
        "r2_score(y_test,y_pred)"
      ],
      "metadata": {
        "colab": {
          "base_uri": "https://localhost:8080/"
        },
        "id": "XATjgFO1sT1R",
        "outputId": "13bbb5b9-c61e-42b1-8768-78c8b0af4113"
      },
      "execution_count": null,
      "outputs": [
        {
          "output_type": "stream",
          "name": "stdout",
          "text": [
            "Initial lr:  0.09\n",
            "152.3524330088306\n",
            "[  29.04197132 -127.16547415  382.55789841  286.73672547    6.2471835\n",
            "  -38.48199936 -183.00169582  136.90618076  323.86096984  144.61520305]\n",
            "Initial lr:  0.050643381647619196\n"
          ]
        },
        {
          "output_type": "execute_result",
          "data": {
            "text/plain": [
              "0.41526244647623145"
            ]
          },
          "metadata": {},
          "execution_count": 44
        }
      ]
    },
    {
      "cell_type": "code",
      "source": [
        "class sklearn_MGBD:\n",
        "  def __init__(self, batch_size,lr = 0.01, epoch =100):\n",
        "    self.epoch = epoch\n",
        "    self.batch_size = batch_size\n",
        "    self.SGD = SGDRegressor(learning_rate = 'constant', eta0 = lr)\n",
        "\n",
        "  def fit(self,X_train,y_train):\n",
        "    batches = int(X_train.shape[0]/self.batch_size)\n",
        "\n",
        "    for i in range(self.epoch):\n",
        "      for j in range(batches):\n",
        "\n",
        "        id = random.sample(range(X_train.shape[0]), self.batch_size)\n",
        "        self.SGD.fit(X_train[id], y_train[id])\n",
        "\n",
        "    print(self.SGD.intercept_)\n",
        "    print(self.SGD.coef_)\n",
        "\n",
        "  def predict(self, X_test):\n",
        "    return self.SGD.predict(X_test)\n",
        "\n",
        "MGBD = sklearn_MGBD(lr = 0.007, epoch = 200, batch_size = 50)\n",
        "MGBD.fit(X_train,y_train)\n",
        "y_pred = MGBD.predict(X_test)\n",
        "r2_score(y_test, y_pred)"
      ],
      "metadata": {
        "id": "LHS22PW7v33q"
      },
      "execution_count": null,
      "outputs": []
    },
    {
      "cell_type": "code",
      "source": [],
      "metadata": {
        "id": "ErL0c83v5ZJu"
      },
      "execution_count": null,
      "outputs": []
    }
  ]
}