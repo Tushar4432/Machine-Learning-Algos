{
  "nbformat": 4,
  "nbformat_minor": 0,
  "metadata": {
    "colab": {
      "provenance": []
    },
    "kernelspec": {
      "name": "python3",
      "display_name": "Python 3"
    },
    "language_info": {
      "name": "python"
    }
  },
  "cells": [
    {
      "cell_type": "code",
      "execution_count": null,
      "metadata": {
        "id": "fNrJ0DyzqE1E"
      },
      "outputs": [],
      "source": [
        "import numpy as np\n",
        "import pandas as pd\n",
        "import matplotlib.pyplot as plt\n",
        "from collections import Counter\n",
        "import random\n",
        "from sklearn.linear_model import LogisticRegression\n",
        "from sklearn.ensemble import RandomForestClassifier\n",
        "from sklearn.neighbors import KNeighborsClassifier\n",
        "from sklearn.svm import SVC\n",
        "from sklearn.model_selection import train_test_split\n",
        "from sklearn.metrics import accuracy_score, confusion_matrix\n",
        "from sklearn.datasets import load_breast_cancer"
      ]
    },
    {
      "cell_type": "code",
      "source": [
        "X,y = load_breast_cancer(return_X_y=True)\n",
        "X_train, X_test, y_train, y_test = train_test_split(X, y, test_size=0.33, random_state=42)"
      ],
      "metadata": {
        "id": "xuw0QkKFq08x"
      },
      "execution_count": null,
      "outputs": []
    },
    {
      "cell_type": "code",
      "source": [
        "class VotingENsamble:\n",
        "  def __init__(self, models, sample_size = 0.7):\n",
        "    self.models = models\n",
        "    self.sample_size = sample_size\n",
        "\n",
        "  def fit(self, X_train, y_train):\n",
        "    for model in self.models:\n",
        "      idx = random.sample(range(X_train.shape[0]), int(self.sample_size * X_train.shape[0]))\n",
        "      X_sample = X_train[idx]\n",
        "      y_sample = y_train[idx]\n",
        "      model.fit(X_sample, y_sample)\n",
        "\n",
        "  def predict(self,X_test):\n",
        "    predictions = np.array([model.predict(X_test) for model in self.models])\n",
        "    predictions = np.mean(predictions, axis=0)\n",
        "    predictions = np.where(predictions >= 0.5, 1, 0)\n",
        "    return predictions\n"
      ],
      "metadata": {
        "id": "sEUTfQ7fq_Jb"
      },
      "execution_count": null,
      "outputs": []
    },
    {
      "cell_type": "code",
      "source": [
        "model = [LogisticRegression(), KNeighborsClassifier(), SVC()]\n",
        "model_name = [\"LogisticRegression\", \"KNeighborsClassifier\", \"SVC\"]\n",
        "ensamble = VotingENsamble(model, sample_size = .65)\n",
        "ensamble.fit(X_train, y_train)\n",
        "y_pred = ensamble.predict(X_test)\n",
        "print(\"Voting ensamble:- \", accuracy_score(y_test, y_pred))\n",
        "\n",
        "for models, name in zip(model, model_name):\n",
        "  models.fit(X_train, y_train)\n",
        "  y_pred = models.predict(X_test)\n",
        "  print(name, \":- \", accuracy_score(y_test, y_pred))"
      ],
      "metadata": {
        "colab": {
          "base_uri": "https://localhost:8080/"
        },
        "id": "Yl9nrFXkrw5Z",
        "outputId": "56de9a3c-e66f-4146-c63c-8355e9497f25"
      },
      "execution_count": null,
      "outputs": [
        {
          "output_type": "stream",
          "name": "stderr",
          "text": [
            "/usr/local/lib/python3.10/dist-packages/sklearn/linear_model/_logistic.py:458: ConvergenceWarning: lbfgs failed to converge (status=1):\n",
            "STOP: TOTAL NO. of ITERATIONS REACHED LIMIT.\n",
            "\n",
            "Increase the number of iterations (max_iter) or scale the data as shown in:\n",
            "    https://scikit-learn.org/stable/modules/preprocessing.html\n",
            "Please also refer to the documentation for alternative solver options:\n",
            "    https://scikit-learn.org/stable/modules/linear_model.html#logistic-regression\n",
            "  n_iter_i = _check_optimize_result(\n",
            "/usr/local/lib/python3.10/dist-packages/sklearn/linear_model/_logistic.py:458: ConvergenceWarning: lbfgs failed to converge (status=1):\n",
            "STOP: TOTAL NO. of ITERATIONS REACHED LIMIT.\n",
            "\n",
            "Increase the number of iterations (max_iter) or scale the data as shown in:\n",
            "    https://scikit-learn.org/stable/modules/preprocessing.html\n",
            "Please also refer to the documentation for alternative solver options:\n",
            "    https://scikit-learn.org/stable/modules/linear_model.html#logistic-regression\n",
            "  n_iter_i = _check_optimize_result(\n"
          ]
        },
        {
          "output_type": "stream",
          "name": "stdout",
          "text": [
            "Voting ensamble:-  0.9840425531914894\n",
            "LogisticRegression :-  0.9574468085106383\n",
            "KNeighborsClassifier :-  0.9521276595744681\n",
            "SVC :-  0.9521276595744681\n"
          ]
        }
      ]
    },
    {
      "cell_type": "code",
      "source": [
        "from sklearn.ensemble import VotingClassifier\n",
        "model = [('lr', LogisticRegression()), ('Logstc', LogisticRegression()), ('svc', SVC())]\n",
        "vc = VotingClassifier(estimators=model, voting='hard', verbose= True, n_jobs = -1)\n",
        "vc.fit(X_train, y_train)\n",
        "y_pred = vc.predict(X_test)\n",
        "print(\"Voting ensemble:- \", accuracy_score(y_test, y_pred))"
      ],
      "metadata": {
        "id": "r_P_ZqyLr87w",
        "colab": {
          "base_uri": "https://localhost:8080/"
        },
        "outputId": "6d810fde-b887-40cc-ef3e-67c0296bb96c"
      },
      "execution_count": null,
      "outputs": [
        {
          "output_type": "stream",
          "name": "stdout",
          "text": [
            "Voting ensemble:-  0.9627659574468085\n"
          ]
        }
      ]
    },
    {
      "cell_type": "code",
      "source": [],
      "metadata": {
        "id": "PdfId_7_Rnx5"
      },
      "execution_count": null,
      "outputs": []
    }
  ]
}