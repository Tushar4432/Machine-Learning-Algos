{
  "nbformat": 4,
  "nbformat_minor": 0,
  "metadata": {
    "colab": {
      "provenance": []
    },
    "kernelspec": {
      "name": "python3",
      "display_name": "Python 3"
    },
    "language_info": {
      "name": "python"
    }
  },
  "cells": [
    {
      "cell_type": "markdown",
      "source": [
        "### **Linear Regression**\n"
      ],
      "metadata": {
        "id": "bobvL7jO5tSY"
      }
    },
    {
      "cell_type": "code",
      "source": [
        "import numpy as np\n",
        "import pandas as pd\n",
        "import seaborn as sns\n",
        "import matplotlib.pyplot as plt\n",
        "from sklearn.preprocessing import normalize\n",
        "from sklearn.preprocessing import StandardScaler\n",
        "from sklearn.pipeline import Pipeline, make_pipeline\n",
        "from sklearn.compose import ColumnTransformer\n",
        "from sklearn.metrics import accuracy_score\n",
        "from sklearn.model_selection import train_test_split\n",
        "from sklearn import set_config\n",
        "\n",
        "set_config(display = 'diagram')\n",
        "\n",
        "\n",
        "class Model:\n",
        "\n",
        "    def hx(self, x, theta, i):\n",
        "        return np.dot(theta.T, x[i])\n",
        "\n",
        "    def pdiff_j(self, m, x, y, theta, j):\n",
        "        partial_diff = 0.0\n",
        "        for i in range(m):\n",
        "            partial_diff += (self.hx(x,theta,i) - y[i]) * x[i][j]\n",
        "        return partial_diff / m\n",
        "\n",
        "    def fit(self, x, y, learning_rate=0.01, training_cycle=1000):\n",
        "        m, n = x.shape\n",
        "        theta = np.zeros((n,))\n",
        "\n",
        "        for _ in range(training_cycle):\n",
        "            for j in range(n):\n",
        "                theta[j] -= learning_rate * self.pdiff_j(m, x, y, theta, j)\n",
        "\n",
        "        self.theta = theta\n",
        "\n",
        "    def predict(self, x):\n",
        "        return np.dot(x,self.theta)\n",
        "\n",
        "\n",
        "def main():\n",
        "\n",
        "    df = pd.read_csv(\"/content/Linear Regression - Sheet1.csv\")\n",
        "    x0 = np.ones([df.shape[0],])\n",
        "    x1 = df['X'].to_numpy()\n",
        "\n",
        "    x = np.vstack([x0, x1])\n",
        "    x = x.T\n",
        "\n",
        "    y = df['Y'].to_numpy()\n",
        "\n",
        "    X_train, X_test, y_train, y_test = train_test_split(x, y, test_size=0.3, random_state=42)\n",
        "\n",
        "\n",
        "\n",
        "    trf1 = ColumnTransformer([\n",
        "        ('tnf1', StandardScaler(), [1])\n",
        "    ], remainder='passthrough')\n",
        "\n",
        "    trf2 = Model()\n",
        "\n",
        "    pipe = Pipeline([\n",
        "        ('trf1',trf1),\n",
        "        ('trf2', trf2)\n",
        "    ])\n",
        "\n",
        "    pipe.fit(X_train, y_train)\n",
        "    y_pred = pipe.predict(X_test)\n",
        "\n",
        "\n",
        "\n",
        "if __name__ == \"__main__\":\n",
        "    main()\n"
      ],
      "metadata": {
        "id": "NRkcf0jff0BQ"
      },
      "execution_count": null,
      "outputs": []
    },
    {
      "cell_type": "markdown",
      "source": [],
      "metadata": {
        "id": "Z47xagfy5rif"
      }
    },
    {
      "cell_type": "markdown",
      "source": [
        "### **Wrighted Linear Regression**\n"
      ],
      "metadata": {
        "id": "hQKIUkd65haz"
      }
    },
    {
      "cell_type": "code",
      "source": [
        "import numpy as np\n",
        "import pandas as pd\n",
        "import seaborn as sns\n",
        "import matplotlib.pyplot as plt\n",
        "from sklearn.preprocessing import StandardScaler\n",
        "\n",
        "class Model_Weighted:\n",
        "\n",
        "    def hx(self, x, theta, i):\n",
        "        return np.dot(theta.T, x[i])\n",
        "\n",
        "    def omega(self, x, i, tau=.25):\n",
        "        delta = (self.X[i] - x) ** 2\n",
        "        delta = delta.sum()\n",
        "        # print(self.X[i], x, delta)\n",
        "        alpha = (-delta / (2 * (tau ** 2)))\n",
        "        return np.exp(alpha)\n",
        "\n",
        "    def pdiff_j(self, m, x, y, theta, j):\n",
        "        partial_diff = 0.0\n",
        "        for i in range(m):\n",
        "            partial_diff += self.omega(x, i) * (self.hx(self.X, theta, i) - y[i]) * self.X[i][j]\n",
        "        return partial_diff / m\n",
        "\n",
        "    def predict(self, x, learning_rate=0.1, training_cycle=1000):\n",
        "        m, n = self.X.shape\n",
        "        theta = np.ones([n,])\n",
        "\n",
        "        for _ in range(training_cycle):\n",
        "            for j in range(n):\n",
        "                slope = learning_rate * self.pdiff_j(m, x, self.Y, theta, j)\n",
        "                theta_old = theta[j]\n",
        "                theta[j] -= slope\n",
        "                if(theta[j]- theta_old  < 1e-4):\n",
        "                  break\n",
        "                # print(theta)\n",
        "\n",
        "        return np.dot(theta.T, x)\n",
        "\n",
        "    def fit(self, x, y):\n",
        "        self.X = x\n",
        "        self.Y = y\n",
        "\n",
        "\n",
        "def main():\n",
        "    # Load data\n",
        "    size = 25\n",
        "    x0 = np.ones([size, ])\n",
        "    x1 = np.linspace(-3.5,3.5,size)\n",
        "\n",
        "    x = np.vstack([x0, x1])\n",
        "    x = x.T\n",
        "\n",
        "    # Scaling\n",
        "    # scaler = StandardScaler()\n",
        "    # x_scaled = scaler.fit_transform(x)\n",
        "\n",
        "    y = np.cos(x[:,1])\n",
        "    # print(y.shape, x.shape)\n",
        "\n",
        "    # Create and fit the model\n",
        "    md = Model_Weighted()\n",
        "    md.fit(x, y)\n",
        "\n",
        "    # Make predictions\n",
        "    num =100\n",
        "    x_test = np.vstack([np.ones([num,]), np.linspace(-3.5,3.5,num)]).T# Example test input\n",
        "    y_test = np.cos(x_test[:,1])\n",
        "    # print(x_test.shape, y_test.shape)\n",
        "    y_pred = np.ones([num,])\n",
        "    for i in range(num):\n",
        "      y_pred[i] = md.predict(x_test[i])\n",
        "      print(\"X = \",x_test[i][1],\"Predicted value:\", y_pred[i])\n",
        "\n",
        "\n",
        "\n",
        "    # Plotting\n",
        "    plt.figure(figsize=(8, 6))\n",
        "    plt.scatter(x_test[:, 1], y_test, color='blue', label='Actual')  # Plot actual data points\n",
        "    plt.scatter(x_test[:, 1], y_pred, color='red', label='Predicted')\n",
        "    plt.xlabel('X')\n",
        "    plt.ylabel('Y')\n",
        "    plt.title('Predicted vs Actual')\n",
        "    plt.legend()\n",
        "    plt.show()\n",
        "\n",
        "\n",
        "if __name__ == \"__main__\":\n",
        "    main()\n"
      ],
      "metadata": {
        "id": "f4BrsSnr5pZi"
      },
      "execution_count": null,
      "outputs": []
    },
    {
      "cell_type": "markdown",
      "source": [
        "### Logistic regression"
      ],
      "metadata": {
        "id": "QN07IfRZqICj"
      }
    },
    {
      "cell_type": "code",
      "source": [
        "import numpy as np\n",
        "import pandas as pd\n",
        "import matplotlib.pyplot as plt\n",
        "import seaborn as sns\n",
        "import plotly.express as px\n",
        "from sklearn.preprocessing import StandardScaler\n",
        "from sklearn.model_selection import train_test_split\n",
        "from sklearn.pipeline import Pipeline\n",
        "from sklearn.compose import ColumnTransformer\n",
        "from sklearn.metrics import accuracy_score\n",
        "\n",
        "class Model:\n",
        "\n",
        "    def hx(self, x):\n",
        "        return 1/(1 + np.exp(-x) )  # Adjusted for numerical stability\n",
        "\n",
        "    def fit(self, x, y, learning_rate=0.01, training_cycle=1000):\n",
        "        x = np.insert(x,0,1,axis = 1)\n",
        "        self.theta = np.random.random(x.shape[1])\n",
        "\n",
        "        for _ in range(training_cycle):\n",
        "          y_pred = self.hx( np.dot( x, self.theta ))\n",
        "\n",
        "          theta_diff = np.dot(x.T, y - y_pred )/x.shape[0]\n",
        "\n",
        "          self.theta += learning_rate * theta_diff\n",
        "\n",
        "        print(self.theta)\n",
        "\n",
        "    def predict(self, x):\n",
        "        x = np.insert(x,0,1,axis =1)\n",
        "        h = self.hx(np.dot(x,self.theta))\n",
        "        h = (h > 0.5).astype(int)\n",
        "        return h\n",
        "\n",
        "def main():\n",
        "    df = pd.read_csv(\"/content/Social_Network_Ads.csv\")\n",
        "\n",
        "    p1 = 'Age'\n",
        "    p2 = 'EstimatedSalary'\n",
        "    o1 = 'Purchased'\n",
        "\n",
        "    scaler = StandardScaler()\n",
        "    df[p1] = scaler.fit_transform(df[[p1]])  # Updated to scale the feature correctly\n",
        "\n",
        "    scaler1 = StandardScaler()\n",
        "    df[p2] = scaler1.fit_transform(df[[p2]])\n",
        "\n",
        "    x = np.hstack([df[[p1]].to_numpy(),df[[p2]].to_numpy()])\n",
        "    y = df[o1].to_numpy()\n",
        "\n",
        "    X_train, X_test, y_train, y_test = train_test_split(x, y, test_size=0.3, random_state=42)\n",
        "\n",
        "    md = Model()\n",
        "    md.fit(X_train, y_train)\n",
        "    y_pred = md.predict(X_test)\n",
        "\n",
        "    accuracy = accuracy_score(y_test, y_pred)\n",
        "    print(\"Accuracy:\", accuracy)\n",
        "\n",
        "    m = -(md.theta[2]/md.theta[1])\n",
        "    b = -(md.theta[0]/md.theta[1])\n",
        "\n",
        "    x_plot = np.linspace(-2,2.5,5)\n",
        "    y_plot = m * x_plot + b\n",
        "\n",
        "\n",
        "    sns.scatterplot(x = X_test[:,1],y = X_test[:,0], hue = y_pred)\n",
        "    plt.plot(x_plot,y_plot, color = \"green\")\n",
        "    plt.legend()\n",
        "    plt.show()\n",
        "\n",
        "if __name__ == \"__main__\":\n",
        "    main()\n"
      ],
      "metadata": {
        "id": "SFBmXvtzqMaU",
        "colab": {
          "base_uri": "https://localhost:8080/",
          "height": 465
        },
        "outputId": "b38805c7-9193-4eb0-b149-5d905fb96c54"
      },
      "execution_count": null,
      "outputs": [
        {
          "output_type": "stream",
          "name": "stdout",
          "text": [
            "[-1.08803835  1.92604531  1.05855987]\n",
            "Accuracy: 0.85\n"
          ]
        },
        {
          "output_type": "display_data",
          "data": {
            "text/plain": [
              "<Figure size 640x480 with 1 Axes>"
            ],
            "image/png": "[encoded data removed]"
          },
          "metadata": {}
        }
      ]
    },
    {
      "cell_type": "markdown",
      "source": [],
      "metadata": {
        "id": "MYkveD0Kna6Z"
      }
    },
    {
      "cell_type": "code",
      "source": [
        "import numpy as np\n",
        "import pandas as pd\n",
        "import matplotlib.pyplot as plt\n",
        "from sklearn.metrics import accuracy_score\n",
        "from sklearn.datesets import make_classification\n",
        "\n",
        "class GDA:\n",
        "  def __init__(self,):\n"
      ],
      "metadata": {
        "id": "3zn7z6284l1k"
      },
      "execution_count": null,
      "outputs": []
    }
  ]
}