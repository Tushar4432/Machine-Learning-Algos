{
  "nbformat": 4,
  "nbformat_minor": 0,
  "metadata": {
    "colab": {
      "provenance": [],
      "collapsed_sections": [
        "eX67gS66WZIZ",
        "bmq3e7VpJC_k",
        "k7u2VMM7zTqp",
        "ItbCPUIC4fDg",
        "DFFdYwDjCbAG"
      ]
    },
    "kernelspec": {
      "name": "python3",
      "display_name": "Python 3"
    },
    "language_info": {
      "name": "python"
    }
  },
  "cells": [
    {
      "cell_type": "markdown",
      "source": [
        "#***REGULARIZATION***"
      ],
      "metadata": {
        "id": "pi5b1T-oWTUq"
      }
    },
    {
      "cell_type": "code",
      "source": [],
      "metadata": {
        "id": "ItyfgvjZJ-Ab"
      },
      "execution_count": null,
      "outputs": []
    },
    {
      "cell_type": "code",
      "source": [],
      "metadata": {
        "id": "HxdpwMfwJ-D5"
      },
      "execution_count": null,
      "outputs": []
    },
    {
      "cell_type": "code",
      "source": [
        "import numpy as np\n",
        "import pandas as pd\n",
        "import random\n",
        "import time\n",
        "from sklearn.linear_model import Ridge\n",
        "from sklearn.linear_model import Lasso\n",
        "from sklearn.datasets import load_diabetes, make_regression\n",
        "from sklearn.model_selection import train_test_split\n",
        "from sklearn.metrics import r2_score"
      ],
      "metadata": {
        "id": "9vcqFZTEWiyT"
      },
      "execution_count": null,
      "outputs": []
    },
    {
      "cell_type": "markdown",
      "source": [
        "##Ridge Regression\n",
        "\n",
        "\n",
        "\n",
        "\n",
        "\n",
        "\n",
        "\n",
        "\n",
        "\n"
      ],
      "metadata": {
        "id": "eX67gS66WZIZ"
      }
    },
    {
      "cell_type": "markdown",
      "source": [
        "\n",
        "###Using linear Algebra\n"
      ],
      "metadata": {
        "id": "bmq3e7VpJC_k"
      }
    },
    {
      "cell_type": "code",
      "source": [
        "X,y = load_diabetes(return_X_y = True)\n",
        "X_train, X_test, y_train, y_test = train_test_split(X,y, test_size = 0.3, random_state = 94)"
      ],
      "metadata": {
        "id": "4jCjONpAWYYB"
      },
      "execution_count": null,
      "outputs": []
    },
    {
      "cell_type": "code",
      "execution_count": null,
      "metadata": {
        "colab": {
          "base_uri": "https://localhost:8080/"
        },
        "id": "LuDjZzxjWJ9J",
        "outputId": "3c5b2a92-2216-4005-cdc4-b6a0d5aff0d2"
      },
      "outputs": [
        {
          "output_type": "stream",
          "name": "stdout",
          "text": [
            "153.18818420133334\n",
            "[ 3.69388018e+01 -9.27098610e+01  3.60027906e+02  2.10217461e+02\n",
            " -2.26210992e-01 -5.30678780e+01 -1.48952518e+02  9.78502636e+01\n",
            "  2.94375864e+02  1.17284099e+02]\n",
            "0.4643265637843299\n"
          ]
        }
      ],
      "source": [
        "class LA_Ridge:\n",
        "  def __init__(self, lamda):\n",
        "    self.intercept = 0\n",
        "    self.coef = 0\n",
        "    self.lamda = lamda\n",
        "\n",
        "  def fit(self, X_train, y_train):\n",
        "    X_train = np.insert(X_train ,0,1, axis = 1)\n",
        "    I = np.identity(X_train.shape[1])\n",
        "\n",
        "    I[0][0] = 0 # this is done so as to make the intercept inafected by ridge regression as we only want to work on slopes\n",
        "\n",
        "    result = np.linalg.solve(np.dot(X_train.T, X_train) + self.lamda * I,np.dot(X_train.T, y_train)) # np.linalg.inv does not work why?\n",
        "    self.intercept = result[0]\n",
        "    self.coef = result[1:]\n",
        "\n",
        "    print(self.intercept)\n",
        "    print(self.coef)\n",
        "\n",
        "  def predict(self, X_test):\n",
        "    return np.dot(X_test, self.coef) + self.intercept\n",
        "\n",
        "md = LA_Ridge(lamda = .5)\n",
        "md.fit(X_train, y_train)\n",
        "y_pred = md.predict(X_test)\n",
        "print(r2_score(y_test, y_pred))"
      ]
    },
    {
      "cell_type": "code",
      "source": [
        "rr = Ridge(alpha = .5)\n",
        "rr.fit(X_train,y_train)\n",
        "y_pred = rr.predict(X_test)\n",
        "print(rr.intercept_)\n",
        "print(rr.coef_)\n",
        "print(r2_score(y_test,y_pred))"
      ],
      "metadata": {
        "colab": {
          "base_uri": "https://localhost:8080/"
        },
        "id": "8UaN5oUGYBrO",
        "outputId": "4a5e3535-7347-49db-a70c-b6ccb76771f4"
      },
      "execution_count": null,
      "outputs": [
        {
          "output_type": "stream",
          "name": "stdout",
          "text": [
            "153.1881842013333\n",
            "[ 3.69388018e+01 -9.27098610e+01  3.60027906e+02  2.10217461e+02\n",
            " -2.26210992e-01 -5.30678780e+01 -1.48952518e+02  9.78502636e+01\n",
            "  2.94375864e+02  1.17284099e+02]\n",
            "0.46432656378433\n"
          ]
        }
      ]
    },
    {
      "cell_type": "markdown",
      "source": [
        "\n",
        "\n",
        "###Ridge using Batch Gradient Descent\n",
        "\n",
        "\n",
        "\n"
      ],
      "metadata": {
        "id": "k7u2VMM7zTqp"
      }
    },
    {
      "cell_type": "code",
      "source": [
        "X,y = load_diabetes(return_X_y = True)\n",
        "X_train, X_test, y_train, y_test = train_test_split(X,y, test_size = 0.3, random_state = 86)"
      ],
      "metadata": {
        "id": "jbFLGey61Qn6"
      },
      "execution_count": null,
      "outputs": []
    },
    {
      "cell_type": "code",
      "source": [
        "class GD_ridge:\n",
        "  def __init__(self, lr = 0.01, epoch = 100, alpha = 0.001):\n",
        "    self.intercept = 0\n",
        "    self.coef = 0\n",
        "    self.lr = lr\n",
        "    self.epoch = epoch\n",
        "    self.alpha = alpha\n",
        "\n",
        "  def fit(self,X_train, y_train):\n",
        "\n",
        "    X_train = np.insert(X_train,0,1,axis = 1)\n",
        "    theta = np.ones(X_train.shape[1])\n",
        "\n",
        "    for i in range(self.epoch):\n",
        "      slope = np.dot(X_train.T, X_train).dot(theta) - np.dot(X_train.T, y_train) + self.alpha * theta\n",
        "      theta -= self.lr * slope\n",
        "\n",
        "    self.intercept = theta[0]\n",
        "    self.coef = theta[1:]\n",
        "\n",
        "    print(self.intercept)\n",
        "    print(self.coef)\n",
        "\n",
        "  def predict(self,X_test):\n",
        "    return np.dot(X_test,self.coef) + self.intercept\n",
        "\n",
        "md = GD_ridge(lr = 0.006, epoch = 500, alpha = 0.001)\n",
        "md.fit(X_train, y_train)\n",
        "y_pred = md.predict(X_test)\n",
        "print(r2_score(y_test, y_pred))"
      ],
      "metadata": {
        "id": "sqh-HGrHdE_O",
        "colab": {
          "base_uri": "https://localhost:8080/"
        },
        "outputId": "fc50bdd5-4ca9-4187-9131-973a38af49df"
      },
      "execution_count": null,
      "outputs": [
        {
          "output_type": "stream",
          "name": "stdout",
          "text": [
            "151.413272059825\n",
            "[  55.66574605 -198.42416821  512.71760603  361.69739479  -73.83820376\n",
            " -124.50674095 -208.9951343   135.61934792  387.59624578   65.25052075]\n",
            "0.513322346658621\n"
          ]
        }
      ]
    },
    {
      "cell_type": "code",
      "source": [
        "rr = Ridge(alpha = 0.001)\n",
        "rr.fit(X_train,y_train)\n",
        "y_pred = rr.predict(X_test)\n",
        "print(rr.intercept_)\n",
        "print(rr.coef_)\n",
        "print(r2_score(y_test,y_pred))"
      ],
      "metadata": {
        "colab": {
          "base_uri": "https://localhost:8080/"
        },
        "id": "owRDo1mR1mEY",
        "outputId": "8c5beba7-1d41-4d5d-b501-112de5783425"
      },
      "execution_count": null,
      "outputs": [
        {
          "output_type": "stream",
          "name": "stdout",
          "text": [
            "151.07289224052326\n",
            "[  59.05104661 -251.35995771  549.97021303  398.98458647 -928.60374309\n",
            "  505.34154043  176.0164699   273.74229936  738.1193001    -7.12702851]\n",
            "0.4927816151475921\n"
          ]
        }
      ]
    },
    {
      "cell_type": "markdown",
      "source": [
        "\n",
        "### Ridge using Stochastic Greadient Descent\n",
        "\n"
      ],
      "metadata": {
        "id": "ItbCPUIC4fDg"
      }
    },
    {
      "cell_type": "code",
      "source": [
        "X,y = load_diabetes(return_X_y = True)\n",
        "X_train, X_test, y_train, y_test = train_test_split(X,y, test_size = 0.3, random_state = 46)"
      ],
      "metadata": {
        "id": "GGDNpQ8Z7NgX"
      },
      "execution_count": null,
      "outputs": []
    },
    {
      "cell_type": "code",
      "source": [
        "class SGD_Ridge:\n",
        "  def __init__(self, lr = 0.01, epoch = 100, alpha = 0.001, adp_lr = False):\n",
        "    self.lr = lr\n",
        "    self.epoch = epoch\n",
        "    self.alpha = alpha\n",
        "    self.adp_lr = adp_lr\n",
        "\n",
        "  def fit(self, X_train, y_train):\n",
        "    X_train = np.insert(X_train,0,1,axis = 1)\n",
        "    theta = np.ones(X_train.shape[1])\n",
        "    self.start = time.time()\n",
        "    lr = self.lr\n",
        "\n",
        "    for i in range(self.epoch):\n",
        "      for j in range(X_train.shape[0]):\n",
        "\n",
        "        id = np.random.randint(0, X_train.shape[0])\n",
        "        y_pred = np.dot(X_train[id], theta)\n",
        "\n",
        "        if(self.adp_lr):\n",
        "          lr = self.schedule()\n",
        "\n",
        "        theta_diff = -np.dot((y_train[id]- y_pred),X_train[id]) + self.alpha * theta\n",
        "        theta -= lr * 2* theta_diff\n",
        "\n",
        "    self.intercept = theta[0]\n",
        "    self.coef = theta[1:]\n",
        "\n",
        "    print(self.intercept)\n",
        "    print(self.coef)\n",
        "\n",
        "  def predict(self, X_test):\n",
        "    return np.dot(X_test, self.coef) + self.intercept\n",
        "\n",
        "  def schedule(self):\n",
        "    t0 = self.start\n",
        "    t1 = time.time()\n",
        "    return self.lr/(2+(t1-t0))\n",
        "\n",
        "\n",
        "md = SGD_Ridge(lr = 0.05, epoch =200 , alpha = 0.0001, adp_lr = True)\n",
        "md.fit(X_train,y_train)\n",
        "y_pred = md.predict(X_test)\n",
        "print(r2_score(y_test, y_pred))"
      ],
      "metadata": {
        "colab": {
          "base_uri": "https://localhost:8080/"
        },
        "id": "3LzbGRKk38du",
        "outputId": "b640dd0e-1875-40bb-a5fc-5215b834f2dd"
      },
      "execution_count": null,
      "outputs": [
        {
          "output_type": "stream",
          "name": "stdout",
          "text": [
            "146.12559990003587\n",
            "[  12.69105892 -227.42541913  471.27976093  323.79017083  -12.98137163\n",
            " -102.31523105 -174.83999632  191.43037586  459.32623424   15.65936478]\n",
            "0.41648226152181356\n"
          ]
        }
      ]
    },
    {
      "cell_type": "code",
      "source": [
        "rr = Ridge(alpha = 0.001)\n",
        "rr.fit(X_train,y_train)\n",
        "y_pred = rr.predict(X_test)\n",
        "print(rr.intercept_)\n",
        "print(rr.coef_)\n",
        "print(r2_score(y_test,y_pred))"
      ],
      "metadata": {
        "colab": {
          "base_uri": "https://localhost:8080/"
        },
        "id": "AXLP2Ybp8k7S",
        "outputId": "8fed1d18-f91b-4e47-dccc-5f130f129823"
      },
      "execution_count": null,
      "outputs": [
        {
          "output_type": "stream",
          "name": "stdout",
          "text": [
            "150.4369100653396\n",
            "[   9.03541908 -246.07376239  486.0336929   337.9820167  -530.08361463\n",
            "  264.63714155   62.40554044  279.4862231   663.04285197   -3.22533894]\n",
            "0.4343038677386277\n"
          ]
        }
      ]
    },
    {
      "cell_type": "markdown",
      "source": [
        "\n",
        "\n",
        "###Ridge Regression using Mini Batch Gradient Descent\n",
        "\n"
      ],
      "metadata": {
        "id": "DFFdYwDjCbAG"
      }
    },
    {
      "cell_type": "code",
      "source": [
        "X,y = load_diabetes(return_X_y = True)\n",
        "X_train, X_test, y_train, y_test = train_test_split(X,y, test_size = 0.25, random_state= 34)"
      ],
      "metadata": {
        "id": "GxRMHtOC9X1_"
      },
      "execution_count": null,
      "outputs": []
    },
    {
      "cell_type": "code",
      "source": [
        "class MBGD_Ridge:\n",
        "  def __init__(self, batch_size,lr = 0.01, epoch = 100, alpha = 0.001, adp_lr = False):\n",
        "    self.lr =lr\n",
        "    self.epoch = epoch\n",
        "    self.alpha = alpha\n",
        "    self.batch_size = batch_size\n",
        "    self.adp_lr = adp_lr\n",
        "\n",
        "  def fit(self, X_train , y_train):\n",
        "    X_train = np.insert(X_train,0,1,axis = 1)\n",
        "    theta = np.ones(X_train.shape[1])\n",
        "    batches = int( X_train.shape[0]/ self.batch_size)\n",
        "    self.start = time.time()\n",
        "    lr = self.lr\n",
        "\n",
        "    for i in range(self.epoch):\n",
        "      for j in range(batches):\n",
        "\n",
        "        id = random.sample(range(X_train.shape[0]), self.batch_size)\n",
        "\n",
        "        if(self.adp_lr):\n",
        "          lr = self.schedule()\n",
        "\n",
        "        theta_diff = np.dot( X_train[id].T , X_train[id] ).dot( theta ) - np.dot( X_train[id].T , y_train[id]) + self.alpha * theta\n",
        "        theta -= lr * theta_diff\n",
        "\n",
        "    self.intercept = theta[0]\n",
        "    self.coef = theta[1:]\n",
        "\n",
        "    print(self.intercept)\n",
        "    print(self.coef)\n",
        "    # print(lr)\n",
        "\n",
        "  def predict(self, X_test):\n",
        "    return np.dot( X_test, self.coef) + self.intercept\n",
        "\n",
        "  def schedule(self):\n",
        "    t0 = self.start\n",
        "    t1 = time.time()\n",
        "    return self.lr/(2+(t1-t0))\n",
        "\n",
        "md = MBGD_Ridge(batch_size = 35, lr = 0.05, epoch = 500, alpha = 0.001, adp_lr = True)\n",
        "md.fit(X_train, y_train)\n",
        "y_pred = md.predict(X_test)\n",
        "print(r2_score(y_test, y_pred))"
      ],
      "metadata": {
        "colab": {
          "base_uri": "https://localhost:8080/"
        },
        "id": "ZVkkm9SJC2iu",
        "outputId": "afb1c3c9-7037-4dfc-f0e7-1a5d1980ed2b"
      },
      "execution_count": null,
      "outputs": [
        {
          "output_type": "stream",
          "name": "stdout",
          "text": [
            "153.73900007334655\n",
            "[  10.89374798 -255.10693809  525.98024278  320.84250949  -95.13299042\n",
            "  -64.89101395 -236.56305238   97.09599913  447.70203535   72.64174677]\n",
            "0.4219172460498284\n"
          ]
        }
      ]
    },
    {
      "cell_type": "code",
      "source": [
        "rr = Ridge(alpha = 0.001)\n",
        "rr.fit(X_train,y_train)\n",
        "y_pred = rr.predict(X_test)\n",
        "print(rr.intercept_)\n",
        "print(rr.coef_)\n",
        "print(r2_score(y_test,y_pred))"
      ],
      "metadata": {
        "colab": {
          "base_uri": "https://localhost:8080/"
        },
        "id": "TbUlypdqHMx8",
        "outputId": "82e44735-bb15-4c8b-cf73-ab320d38e242"
      },
      "execution_count": null,
      "outputs": [
        {
          "output_type": "stream",
          "name": "stdout",
          "text": [
            "154.11376978214633\n",
            "[   8.57595351 -260.18286882  514.45920235  335.05745115 -753.65496586\n",
            "  496.16568977   18.29971306  115.15537881  717.6926403    65.86689391]\n",
            "0.4193293339744496\n"
          ]
        }
      ]
    },
    {
      "cell_type": "markdown",
      "source": [
        "##Lasso Regression"
      ],
      "metadata": {
        "id": "BHe5ejWwpxYP"
      }
    },
    {
      "cell_type": "code",
      "source": [
        "X,y = load_diabetes(return_X_y = True)\n",
        "# X,y = make_regression(n_samples = 100, n_features = 10, n_informative = 5,  random_state = 453)\n",
        "X_train, X_test, y_train, y_test = train_test_split(X,y, test_size = 0.25, random_state = 453)"
      ],
      "metadata": {
        "id": "UmdQp4JZp0RV"
      },
      "execution_count": null,
      "outputs": []
    },
    {
      "cell_type": "code",
      "source": [
        "class Lasso_Reg:\n",
        "  def __init__(self,alpha, lr = 0.01, epoch = 100):\n",
        "    self.coef = 0\n",
        "    self.intercept = 0\n",
        "    self.alpha = alpha\n",
        "    self.lr = lr\n",
        "    self.epoch = epoch\n",
        "\n",
        "  def fit(self, X_train, y_train):\n",
        "    n = X_train.shape[0]\n",
        "    self.coef = np.ones(X_train.shape[1])\n",
        "\n",
        "    for i in range(self.epoch):\n",
        "      y_hat = self.predict(X_train)\n",
        "      coef_diff = np.ones(X_train.shape[1])\n",
        "\n",
        "      intercept_diff = -2 * np.mean( y_train - y_hat)\n",
        "      self.intercept -= self.lr * intercept_diff\n",
        "\n",
        "      for j in range(X_train.shape[1]):\n",
        "        rho  =  -2 * (np.dot( (y_train - y_hat), X_train[:,j]))/n\n",
        "        if( self.coef[j] < 0 ):\n",
        "          coef_diff[j] = (rho - self.alpha/n)\n",
        "        elif( self.coef[j] > 0):\n",
        "          coef_diff[j] =  (rho + self.alpha/n)\n",
        "        else:\n",
        "          pass\n",
        "\n",
        "      self.coef -= self.lr * coef_diff\n",
        "\n",
        "    self.coef = np.where(self.coef<1e-5, 0, self.coef)\n",
        "    print(self.intercept)\n",
        "    print(self.coef)\n",
        "\n",
        "  def predict(self,X_test):\n",
        "    return np.dot(X_test, self.coef) + self.intercept\n",
        "\n",
        "md = Lasso_Reg(alpha = 0.01, lr = .01, epoch =100)\n",
        "md.fit(X_train, y_train)\n",
        "y_pred = md.predict(X_test)\n",
        "print(r2_score(y_test, y_pred))"
      ],
      "metadata": {
        "colab": {
          "base_uri": "https://localhost:8080/"
        },
        "id": "sxYeAiIHqJn5",
        "outputId": "85bd9e58-9e0e-453d-e365-64b9d36a527f"
      },
      "execution_count": null,
      "outputs": [
        {
          "output_type": "stream",
          "name": "stdout",
          "text": [
            "129.5638717339026\n",
            "[2.21588205 1.41552522 5.00784072 3.97119033 2.36200016 2.18170493\n",
            " 0.         4.10793497 4.92610078 3.98410469]\n",
            "-0.1375167114534892\n"
          ]
        }
      ]
    },
    {
      "cell_type": "code",
      "source": [
        "ls = Lasso(alpha = 0.01)\n",
        "ls.fit(X_train, y_train)\n",
        "y_pred = ls.predict(X_test)\n",
        "print(ls.intercept_)\n",
        "print(ls.coef_)\n",
        "print(r2_score(y_test, y_pred))"
      ],
      "metadata": {
        "colab": {
          "base_uri": "https://localhost:8080/"
        },
        "id": "44RP3eLR_Ex3",
        "outputId": "aed0bc8e-a120-4229-8e1f-b9a4a03d2420"
      },
      "execution_count": null,
      "outputs": [
        {
          "output_type": "stream",
          "name": "stdout",
          "text": [
            "150.99274711360812\n",
            "[  -5.59217058 -199.38774165  500.50693658  241.95764926 -425.12652479\n",
            "  138.6090779   -77.13651261  143.75708405  620.12419768   95.58918328]\n",
            "0.5076830369605065\n"
          ]
        }
      ]
    },
    {
      "cell_type": "code",
      "source": [
        "# Lasso Regression\n",
        "class LassoRegression():\n",
        "\tdef __init__(self, learning_rate, iterations, l1_penalty):\n",
        "\t\tself.learning_rate = learning_rate\n",
        "\t\tself.iterations = iterations\n",
        "\t\tself.l1_penalty = l1_penalty\n",
        "\n",
        "\t# Function for model training\n",
        "\tdef fit(self, X, Y):\n",
        "\t\t# no_of_training_examples, no_of_features\n",
        "\t\tself.m, self.n = X.shape\n",
        "\t\t# weight initialization\n",
        "\t\tself.W = np.zeros(self.n)\n",
        "\t\tself.b = 0\n",
        "\t\tself.X = X\n",
        "\t\tself.Y = Y\n",
        "\t\t# gradient descent learning\n",
        "\t\tfor i in range(self.iterations):\n",
        "\t\t\tself.update_weights()\n",
        "\t\treturn self\n",
        "\n",
        "\t# Helper function to update weights in gradient descent\n",
        "\tdef update_weights(self):\n",
        "\t\tY_pred = self.predict(self.X)\n",
        "\t\t# calculate gradients\n",
        "\t\tdW = np.zeros(self.n)\n",
        "\t\tfor j in range(self.n):\n",
        "\t\t\tif self.W[j] > 0:\n",
        "\t\t\t\tdW[j] = (-2 * (self.X[:, j]).dot(self.Y - Y_pred) +\n",
        "\t\t\t\t\t\tself.l1_penalty) / self.m\n",
        "\t\t\telse:\n",
        "\t\t\t\tdW[j] = (-2 * (self.X[:, j]).dot(self.Y - Y_pred) -\n",
        "\t\t\t\t\t\tself.l1_penalty) / self.m\n",
        "\n",
        "\t\tdb = -2 * np.sum(self.Y - Y_pred) / self.m\n",
        "\n",
        "\t\t# update weights\n",
        "\t\tself.W = self.W - self.learning_rate * dW\n",
        "\t\tself.b = self.b - self.learning_rate * db\n",
        "\t\treturn self\n",
        "\n",
        "\t# Hypothetical function h(x)\n",
        "\tdef predict(self, X):\n",
        "\t\treturn X.dot(self.W) + self.b\n"
      ],
      "metadata": {
        "id": "PFoswtoxsSne"
      },
      "execution_count": null,
      "outputs": []
    },
    {
      "cell_type": "code",
      "source": [
        "md = LassoRegression(learning_rate = 0.05, iterations = 500, l1_penalty = 0.1)\n",
        "md.fit(X_train, y_train)\n",
        "y_pred = md.predict(X_test)\n",
        "print(r2_score(y_test, y_pred))"
      ],
      "metadata": {
        "colab": {
          "base_uri": "https://localhost:8080/"
        },
        "id": "xYEoFzREECN6",
        "outputId": "f132c9c8-91eb-40e5-eda6-bda4449e2714"
      },
      "execution_count": null,
      "outputs": [
        {
          "output_type": "stream",
          "name": "stdout",
          "text": [
            "0.999999998162927\n"
          ]
        }
      ]
    },
    {
      "cell_type": "code",
      "source": [],
      "metadata": {
        "id": "tXqWw9-TEKGP"
      },
      "execution_count": null,
      "outputs": []
    }
  ]
}