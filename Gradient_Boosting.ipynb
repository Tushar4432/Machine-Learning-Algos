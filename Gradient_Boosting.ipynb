{
  "nbformat": 4,
  "nbformat_minor": 0,
  "metadata": {
    "colab": {
      "provenance": []
    },
    "kernelspec": {
      "name": "python3",
      "display_name": "Python 3"
    },
    "language_info": {
      "name": "python"
    }
  },
  "cells": [
    {
      "cell_type": "code",
      "execution_count": null,
      "metadata": {
        "id": "5j4jBIpzzMPa"
      },
      "outputs": [],
      "source": [
        "import numpy as np\n",
        "import pandas as pd\n",
        "import matplotlib.pyplot as plt\n",
        "from sklearn.tree import DecisionTreeRegressor, plot_tree\n",
        "from sklearn.model_selection import train_test_split\n",
        "from sklearn.metrics import accuracy_score, f1_score, confusion_matrix, r2_score, mean_squared_error\n",
        "from sklearn.datasets import load_diabetes, make_regression, make_classification, load_breast_cancer"
      ]
    },
    {
      "cell_type": "code",
      "source": [],
      "metadata": {
        "id": "Mp0868vvyzvn"
      },
      "execution_count": null,
      "outputs": []
    },
    {
      "cell_type": "code",
      "source": [
        "X,y = load_diabetes(return_X_y=True)\n",
        "# X,y = make_regression(n_samples=100, n_features=10, noise=10, random_state=556)\n",
        "X_train, X_test, y_train, y_test = train_test_split(X,y,test_size=0.2,random_state=57)\n",
        "plt.scatter(X[:,0],X[:,1], c= y)"
      ],
      "metadata": {
        "colab": {
          "base_uri": "https://localhost:8080/",
          "height": 447
        },
        "id": "lkNCxuqVzqW5",
        "outputId": "5dd15da7-6692-4eae-fba4-76a876e261df"
      },
      "execution_count": null,
      "outputs": [
        {
          "output_type": "execute_result",
          "data": {
            "text/plain": [
              "<matplotlib.collections.PathCollection at 0x7acc31054370>"
            ]
          },
          "metadata": {},
          "execution_count": 134
        },
        {
          "output_type": "display_data",
          "data": {
            "text/plain": [
              "<Figure size 640x480 with 1 Axes>"
            ],
            "image/png": "[encoded data removed]"
          },
          "metadata": {}
        }
      ]
    },
    {
      "cell_type": "code",
      "source": [
        "class GradientBoosting:\n",
        "    def __init__(self, n_estimators=100, learning_rate=0.1, max_depth=5, early_stop = 5):\n",
        "        self.n_estimators = n_estimators\n",
        "        self.learning_rate = learning_rate\n",
        "        self.max_depth = max_depth\n",
        "        self.estimators = []\n",
        "        self.residuals = None\n",
        "        self.m1 = None\n",
        "        self.early_stop = early_stop\n",
        "\n",
        "    def fit(self,X_train, y_train):\n",
        "      self.m1 = np.mean(y_train)\n",
        "      self.residuals = y_train - self.m1\n",
        "      best_val_score = None\n",
        "      no_improvement = 0\n",
        "      best_iteration = 0\n",
        "\n",
        "      for _ in range(self.n_estimators):\n",
        "        dt = DecisionTreeRegressor(max_depth=self.max_depth)\n",
        "        dt.fit(X_train, self.residuals)\n",
        "        self.estimators.append(dt)\n",
        "        self.residuals = y_train - self.predict(X_train)\n",
        "        val_score = r2_score(y_train, self.predict(X_train))\n",
        "        if (best_val_score is None or val_score > best_val_score):\n",
        "            best_val_score = val_score\n",
        "            best_iteration = _\n",
        "        else:\n",
        "            no_improvement += 1\n",
        "        if no_improvement >= self.early_stop or best_val_score >= .99:\n",
        "            print(f\"Early stopping at iteration {best_iteration}\")\n",
        "            break\n",
        "\n",
        "      return self\n",
        "\n",
        "    def predict(self, X_test):\n",
        "        y_pred = np.zeros(X_test.shape[0])\n",
        "        for dt in self.estimators:\n",
        "            y_pred += self.learning_rate * dt.predict(X_test)\n",
        "        y_pred += self.m1\n",
        "        return y_pred"
      ],
      "metadata": {
        "id": "s6nngDz0z3LK"
      },
      "execution_count": null,
      "outputs": []
    },
    {
      "cell_type": "code",
      "source": [
        "md = GradientBoosting(n_estimators=100, learning_rate=0.1, max_depth=5)\n",
        "md.fit(X_train, y_train)\n",
        "y_pred = md.predict(X_test)\n",
        "print(r2_score(y_test, y_pred))\n",
        "print(mean_squared_error(y_test, y_pred))"
      ],
      "metadata": {
        "colab": {
          "base_uri": "https://localhost:8080/"
        },
        "id": "nnKL_Ihj1pZA",
        "outputId": "7c297fed-46ce-49d5-fd3e-163742e47bf7"
      },
      "execution_count": null,
      "outputs": [
        {
          "output_type": "stream",
          "name": "stdout",
          "text": [
            "0.4358601572198624\n",
            "3600.5317756529753\n"
          ]
        }
      ]
    },
    {
      "cell_type": "code",
      "source": [
        "X,y = make_classification(n_samples=10, n_features=2, n_informative=2, n_redundant=0,class_sep = 2 , random_state=105)\n",
        "X_train, X_test, y_train, y_test = train_test_split(X,y,test_size=0.25,random_state=57)\n",
        "plt.scatter(X[:,0],X[:,1], c= y)"
      ],
      "metadata": {
        "id": "ylNk_QyS10Up",
        "colab": {
          "base_uri": "https://localhost:8080/",
          "height": 447
        },
        "outputId": "ed0e4ee1-0c92-42bd-b42b-f97789385eef"
      },
      "execution_count": null,
      "outputs": [
        {
          "output_type": "execute_result",
          "data": {
            "text/plain": [
              "<matplotlib.collections.PathCollection at 0x7d34e5949510>"
            ]
          },
          "metadata": {},
          "execution_count": 6
        },
        {
          "output_type": "display_data",
          "data": {
            "text/plain": [
              "<Figure size 640x480 with 1 Axes>"
            ],
            "image/png": "[encoded data removed]"
          },
          "metadata": {}
        }
      ]
    },
    {
      "cell_type": "code",
      "source": [
        "class GBClassifier:\n",
        "    def __init__(self, n_estimators=100, learning_rate=0.1, max_depth=5, early_stop = 5):\n",
        "        self.n_estimators = n_estimators\n",
        "        self.learning_rate = learning_rate\n",
        "        self.max_depth = max_depth\n",
        "        self.estimators = []\n",
        "        self.residuals = None\n",
        "        self.m1 = None\n",
        "        self.early_stop = early_stop\n",
        "\n",
        "    def calc_prob(self, X):\n",
        "        return 1/(1+np.exp(-X))\n",
        "\n",
        "    def fit(self,X_train, y_train):\n",
        "        value, count = np.unique(y_train, return_counts=True)\n",
        "        self.m1 = np.full((X_train.shape[0], 1),np.log(count[1]/count[0]))\n",
        "        Fm = self.m1.copy()\n",
        "        print(self.residuals)\n",
        "\n",
        "        for i in range(self.n_estimators):\n",
        "            prob = self.calc_prob(Fm)\n",
        "            self.residuals = y_train - prob\n",
        "            dt = DecisionTreeRegressor(max_depth=self.max_depth)\n",
        "            dt.fit(X_train, self.residuals)\n",
        "            idx = dt.apply(X_train)\n",
        "\n",
        "            for j in np.unique(idx):\n",
        "                fltr = idx == j\n",
        "\n",
        "                num = self.residuals[fltr].sum()\n",
        "                den = (prob[fltr] * (1-prob[fltr])).sum()\n",
        "                if den == 0 or num ==0:\n",
        "                    break\n",
        "                gamma = num/den\n",
        "\n",
        "                Fm[fltr] = self.learning_rate * gamma\n",
        "                dt.tree_.value[j,0,0] = gamma\n",
        "\n",
        "            # plot_tree(dt)\n",
        "            # plt.show()\n",
        "            self.estimators.append(dt)\n",
        "\n",
        "    def predict(self, X_test):\n",
        "        y_pred = np.full((X_test.shape[0], 1), self.m1[0])\n",
        "        print(y_pred.shape)\n",
        "\n",
        "        for dt in self.estimators:\n",
        "          print(dt.predict(X_test))\n",
        "          print(X_test)\n",
        "          y_pred += self.learning_rate * dt.predict(X_test)[0]\n",
        "\n",
        "        return self.calc_prob(y_pred)\n"
      ],
      "metadata": {
        "id": "78V-g-awITH9"
      },
      "execution_count": null,
      "outputs": []
    },
    {
      "cell_type": "code",
      "source": [
        "md = GBClassifier(n_estimators=10, learning_rate=0.1, max_depth=5, early_stop=5)\n",
        "md.fit(X_train, y_train)\n",
        "y_pred = md.predict(X_test)\n",
        "print(y_pred)\n",
        "print(y_test)\n",
        "print(accuracy_score(y_test, y_pred>0.5))"
      ],
      "metadata": {
        "colab": {
          "base_uri": "https://localhost:8080/",
          "height": 523
        },
        "id": "aDOqkNtYIxSU",
        "outputId": "0208f51b-4a2a-483d-8307-e565bde2d7fd"
      },
      "execution_count": null,
      "outputs": [
        {
          "output_type": "stream",
          "name": "stdout",
          "text": [
            "None\n",
            "(3, 1)\n",
            "[[-9.06682137e-16 -4.28571429e-01 -4.28571429e-01  5.71428571e-01\n",
            "  -4.28571429e-01  5.71428571e-01  5.71428571e-01]\n",
            " [-9.06682137e-16 -4.28571429e-01 -4.28571429e-01  5.71428571e-01\n",
            "  -4.28571429e-01  5.71428571e-01  5.71428571e-01]\n",
            " [-9.06682137e-16 -4.28571429e-01 -4.28571429e-01  5.71428571e-01\n",
            "  -4.28571429e-01  5.71428571e-01  5.71428571e-01]]\n",
            "[[-2.35901614  1.98401539]\n",
            " [-2.09082648 -1.61351386]\n",
            " [ 1.94390851  1.30241156]]\n"
          ]
        },
        {
          "output_type": "error",
          "ename": "ValueError",
          "evalue": "non-broadcastable output operand with shape (3,1) doesn't match the broadcast shape (3,7)",
          "traceback": [
            "\u001b[0;31m---------------------------------------------------------------------------\u001b[0m",
            "\u001b[0;31mValueError\u001b[0m                                Traceback (most recent call last)",
            "\u001b[0;32m<ipython-input-34-e42368c4e6c8>\u001b[0m in \u001b[0;36m<cell line: 3>\u001b[0;34m()\u001b[0m\n\u001b[1;32m      1\u001b[0m \u001b[0mmd\u001b[0m \u001b[0;34m=\u001b[0m \u001b[0mGBClassifier\u001b[0m\u001b[0;34m(\u001b[0m\u001b[0mn_estimators\u001b[0m\u001b[0;34m=\u001b[0m\u001b[0;36m10\u001b[0m\u001b[0;34m,\u001b[0m \u001b[0mlearning_rate\u001b[0m\u001b[0;34m=\u001b[0m\u001b[0;36m0.1\u001b[0m\u001b[0;34m,\u001b[0m \u001b[0mmax_depth\u001b[0m\u001b[0;34m=\u001b[0m\u001b[0;36m5\u001b[0m\u001b[0;34m,\u001b[0m \u001b[0mearly_stop\u001b[0m\u001b[0;34m=\u001b[0m\u001b[0;36m5\u001b[0m\u001b[0;34m)\u001b[0m\u001b[0;34m\u001b[0m\u001b[0;34m\u001b[0m\u001b[0m\n\u001b[1;32m      2\u001b[0m \u001b[0mmd\u001b[0m\u001b[0;34m.\u001b[0m\u001b[0mfit\u001b[0m\u001b[0;34m(\u001b[0m\u001b[0mX_train\u001b[0m\u001b[0;34m,\u001b[0m \u001b[0my_train\u001b[0m\u001b[0;34m)\u001b[0m\u001b[0;34m\u001b[0m\u001b[0;34m\u001b[0m\u001b[0m\n\u001b[0;32m----> 3\u001b[0;31m \u001b[0my_pred\u001b[0m \u001b[0;34m=\u001b[0m \u001b[0mmd\u001b[0m\u001b[0;34m.\u001b[0m\u001b[0mpredict\u001b[0m\u001b[0;34m(\u001b[0m\u001b[0mX_test\u001b[0m\u001b[0;34m)\u001b[0m\u001b[0;34m\u001b[0m\u001b[0;34m\u001b[0m\u001b[0m\n\u001b[0m\u001b[1;32m      4\u001b[0m \u001b[0mprint\u001b[0m\u001b[0;34m(\u001b[0m\u001b[0my_pred\u001b[0m\u001b[0;34m)\u001b[0m\u001b[0;34m\u001b[0m\u001b[0;34m\u001b[0m\u001b[0m\n\u001b[1;32m      5\u001b[0m \u001b[0mprint\u001b[0m\u001b[0;34m(\u001b[0m\u001b[0my_test\u001b[0m\u001b[0;34m)\u001b[0m\u001b[0;34m\u001b[0m\u001b[0;34m\u001b[0m\u001b[0m\n",
            "\u001b[0;32m<ipython-input-33-9975517e3eb5>\u001b[0m in \u001b[0;36mpredict\u001b[0;34m(self, X_test)\u001b[0m\n\u001b[1;32m     48\u001b[0m           \u001b[0mprint\u001b[0m\u001b[0;34m(\u001b[0m\u001b[0mdt\u001b[0m\u001b[0;34m.\u001b[0m\u001b[0mpredict\u001b[0m\u001b[0;34m(\u001b[0m\u001b[0mX_test\u001b[0m\u001b[0;34m)\u001b[0m\u001b[0;34m)\u001b[0m\u001b[0;34m\u001b[0m\u001b[0;34m\u001b[0m\u001b[0m\n\u001b[1;32m     49\u001b[0m           \u001b[0mprint\u001b[0m\u001b[0;34m(\u001b[0m\u001b[0mX_test\u001b[0m\u001b[0;34m)\u001b[0m\u001b[0;34m\u001b[0m\u001b[0;34m\u001b[0m\u001b[0m\n\u001b[0;32m---> 50\u001b[0;31m           \u001b[0my_pred\u001b[0m \u001b[0;34m+=\u001b[0m \u001b[0mself\u001b[0m\u001b[0;34m.\u001b[0m\u001b[0mlearning_rate\u001b[0m \u001b[0;34m*\u001b[0m \u001b[0mdt\u001b[0m\u001b[0;34m.\u001b[0m\u001b[0mpredict\u001b[0m\u001b[0;34m(\u001b[0m\u001b[0mX_test\u001b[0m\u001b[0;34m)\u001b[0m\u001b[0;34m[\u001b[0m\u001b[0;36m0\u001b[0m\u001b[0;34m]\u001b[0m\u001b[0;34m\u001b[0m\u001b[0;34m\u001b[0m\u001b[0m\n\u001b[0m\u001b[1;32m     51\u001b[0m \u001b[0;34m\u001b[0m\u001b[0m\n\u001b[1;32m     52\u001b[0m         \u001b[0;32mreturn\u001b[0m \u001b[0mself\u001b[0m\u001b[0;34m.\u001b[0m\u001b[0mcalc_prob\u001b[0m\u001b[0;34m(\u001b[0m\u001b[0my_pred\u001b[0m\u001b[0;34m)\u001b[0m\u001b[0;34m\u001b[0m\u001b[0;34m\u001b[0m\u001b[0m\n",
            "\u001b[0;31mValueError\u001b[0m: non-broadcastable output operand with shape (3,1) doesn't match the broadcast shape (3,7)"
          ]
        }
      ]
    },
    {
      "cell_type": "code",
      "source": [],
      "metadata": {
        "id": "mp-IfkM0d-38"
      },
      "execution_count": null,
      "outputs": []
    }
  ]
}