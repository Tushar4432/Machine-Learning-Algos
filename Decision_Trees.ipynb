{
  "nbformat": 4,
  "nbformat_minor": 0,
  "metadata": {
    "colab": {
      "provenance": []
    },
    "kernelspec": {
      "name": "python3",
      "display_name": "Python 3"
    },
    "language_info": {
      "name": "python"
    }
  },
  "cells": [
    {
      "cell_type": "code",
      "execution_count": null,
      "metadata": {
        "id": "g8FsqBpHHCeW"
      },
      "outputs": [],
      "source": [
        "import pandas as pd\n",
        "import numpy as np\n",
        "import random\n",
        "import matplotlib.pyplot as plt\n",
        "import statistics as st\n",
        "from collections import Counter\n",
        "from sklearn.tree import DecisionTreeClassifier, plot_tree\n",
        "from sklearn.datasets import load_breast_cancer\n",
        "from sklearn.metrics import accuracy_score, f1_score\n",
        "from sklearn.model_selection import train_test_split"
      ]
    },
    {
      "cell_type": "markdown",
      "source": [
        "# Decision Tree"
      ],
      "metadata": {
        "id": "7TW1Nz1h-HDL"
      }
    },
    {
      "cell_type": "code",
      "source": [
        "X,y = load_breast_cancer(return_X_y = True)\n",
        "X_train, X_test, y_train, y_test = train_test_split(X,y, test_size = .25, random_state = 345)"
      ],
      "metadata": {
        "id": "qSPOVlOgP0Zv"
      },
      "execution_count": null,
      "outputs": []
    },
    {
      "cell_type": "code",
      "source": [
        "class Node:\n",
        "  def __init__(self, feature = None, threshold = None, left = None, right = None,*, value = None): # make value a keyword argument\n",
        "    self.feature = feature\n",
        "    self.threshold = threshold\n",
        "    self.left = left\n",
        "    self.right = right\n",
        "    self.value = value\n",
        "\n",
        "  def is_leaf(self):\n",
        "    return self.value is not None"
      ],
      "metadata": {
        "id": "acy6Y3RuiXm1"
      },
      "execution_count": null,
      "outputs": []
    },
    {
      "cell_type": "code",
      "source": [
        "class Impurity:\n",
        "  def __init__(self, impurity):\n",
        "    self.impurity = impurity\n",
        "\n",
        "  def calculate(self,y):\n",
        "    raise NotImplementedError(\"Subclass must implement calculate\")\n",
        "\n",
        "class Gini(Impurity):\n",
        "  def __init__(self):\n",
        "    super().__init__(\"gini\")\n",
        "\n",
        "  def calculate(self, y):\n",
        "    p = np.bincount(y)\n",
        "    p = p/len(y)\n",
        "    return 1 - np.sum(np.fromiter((pk**2 for pk in p), float))\n",
        "\n",
        "class Entropy(Impurity):\n",
        "  def __init__(self):\n",
        "    super().__init__(\"entropy\")\n",
        "\n",
        "  def calculate(self,y):\n",
        "    p = np.bincount(y)\n",
        "    p = p/len(y)\n",
        "    return -np.sum(np.fromiter((pk * np.log(pk) for pk in p if pk>0),float) )"
      ],
      "metadata": {
        "id": "LInekg1V33W7"
      },
      "execution_count": null,
      "outputs": []
    },
    {
      "cell_type": "code",
      "source": [
        "class DecisionTree:\n",
        "  def __init__(self,impurity = \"gini\",  max_tree_depth = 100, min_sample_leaf = 2, n_features = None , max_leaf = None):\n",
        "    self.max_tree_depth = max_tree_depth\n",
        "    self.min_sample_leaf = min_sample_leaf\n",
        "    self.n_features = n_features # no of features to consider while calculating the best split\n",
        "    self.max_leaf = max_leaf\n",
        "    self.leaf_count = 0\n",
        "    self.impurity_measure = None\n",
        "\n",
        "    if impurity == \"gini\":\n",
        "      self.impurity_measure = Gini()\n",
        "    elif impurity == \"entropy\":\n",
        "      self.impurity_measure = Entropy()\n",
        "    else:\n",
        "      raise ValueError(\"Invalid impurity type impurity must belong to [gini,entropy]\")\n",
        "\n",
        "  def fit(self, X, y):\n",
        "    self.n_features = X.shape[1] if not self.n_features else min(X.shape[1], self.n_features) # if n_features is none then n_features will be all the features of X\n",
        "    self.root = self._make_tree(X,y)\n",
        "\n",
        "  def _make_tree(self,X,y, depth = 0):\n",
        "    n_sample , n_feats = X.shape\n",
        "    n_classes = len(np.unique(y))\n",
        "\n",
        "    if (depth >= self.max_tree_depth or n_classes == 1 or n_sample< self.min_sample_leaf):\n",
        "      leaf_value = self._most_common_class(y)\n",
        "      return Node(value = leaf_value)\n",
        "\n",
        "    n_idx = np.random.choice(n_feats, self.n_features, replace = False) # this will find unique value of index with no repetitions hence all chosen features will be unique\n",
        "\n",
        "    best_feat , best_threshold = self._best_split(X,y, n_idx)\n",
        "\n",
        "    left, right = self._split(X[:, best_feat],best_threshold)\n",
        "    left = self._make_tree(X[left], y[left], depth+1)\n",
        "    right = self._make_tree(X[right], y[right], depth+1)\n",
        "\n",
        "    return Node(best_feat, best_threshold, left, right)\n",
        "\n",
        "  def _most_common_class(self,y):\n",
        "    return st.mode(y)\n",
        "\n",
        "  def _best_split(self, X,y, n_idx):\n",
        "    best_gain = -1\n",
        "    split_idx, split_threshold = None, None\n",
        "\n",
        "    for i in n_idx:\n",
        "      threshold = np.unique(X[:,i])\n",
        "\n",
        "      for thr in threshold:\n",
        "        gain = self._info_gain(X,y,thr,i)\n",
        "\n",
        "        if gain > best_gain:\n",
        "          best_gain = gain\n",
        "          split_idx = i\n",
        "          split_threshold = thr\n",
        "\n",
        "    return split_idx, split_threshold\n",
        "\n",
        "  def _info_gain(self, X,y, threshold, idx):\n",
        "    #parent entropy\n",
        "    e_p = self.impurity_measure.calculate(y)\n",
        "\n",
        "    #children entropy\n",
        "    left, right = self._split(X[:,idx],threshold)\n",
        "    s = len(y)\n",
        "    s_l, s_r = len(left),  len(right)\n",
        "    e_l, e_r = self.impurity_measure.calculate(y[left]) , self.impurity_measure.calculate(y[right])\n",
        "\n",
        "    e_ch = s_l/s * e_l + s_r/s * e_r\n",
        "\n",
        "    #info gain calculation\n",
        "    return e_p - e_ch\n",
        "\n",
        "  def _split(self, X_split_feat ,threshold):\n",
        "    right_idx = np.argwhere(X_split_feat> threshold).flatten()\n",
        "    left_idx = np.argwhere(X_split_feat <= threshold).flatten()\n",
        "    return left_idx , right_idx\n",
        "\n",
        "  def predict(self,X_test):\n",
        "    return np.array([self._traverse(x,self.root) for x in X_test])\n",
        "\n",
        "  def _traverse(self, x, node):\n",
        "    if node.is_leaf():\n",
        "      return node.value\n",
        "\n",
        "    if (x[node.feature] <= node.threshold):\n",
        "      return self._traverse(x, node.left)\n",
        "    return self._traverse(x, node.right)\n",
        "\n",
        "\n",
        "\n",
        "\n"
      ],
      "metadata": {
        "id": "Ouk0UP4IQHnT"
      },
      "execution_count": null,
      "outputs": []
    },
    {
      "cell_type": "code",
      "source": [
        "md = DecisionTree(impurity = \"entropy\", n_features = 10)\n",
        "md.fit(X_train , y_train)\n",
        "y_pred = md.predict(X_test)\n",
        "print(f1_score(y_test, y_pred))"
      ],
      "metadata": {
        "colab": {
          "base_uri": "https://localhost:8080/"
        },
        "id": "__xDpIrzmJqh",
        "outputId": "e070ddb8-1cce-42dd-c4e9-f5ccf12340e6"
      },
      "execution_count": null,
      "outputs": [
        {
          "output_type": "stream",
          "name": "stdout",
          "text": [
            "0.9425287356321839\n"
          ]
        }
      ]
    },
    {
      "cell_type": "code",
      "source": [
        "dt = DecisionTreeClassifier()\n",
        "dt.fit(X_train, y_train)\n",
        "y_pred = dt.predict(X_test)\n",
        "print(f1_score(y_test, y_pred))\n",
        "plot_tree(dt)"
      ],
      "metadata": {
        "id": "EBpy3eyrma13",
        "colab": {
          "base_uri": "https://localhost:8080/",
          "height": 1000
        },
        "outputId": "b44ad3e0-df68-46f7-fbe5-87959917eb7e"
      },
      "execution_count": null,
      "outputs": [
        {
          "output_type": "stream",
          "name": "stdout",
          "text": [
            "0.9195402298850575\n"
          ]
        },
        {
          "output_type": "execute_result",
          "data": {
            "text/plain": [
              "[Text(0.5955056179775281, 0.95, 'x[22] <= 113.15\\ngini = 0.465\\nsamples = 426\\nvalue = [157, 269]'),\n",
              " Text(0.4157303370786517, 0.85, 'x[27] <= 0.146\\ngini = 0.147\\nsamples = 287\\nvalue = [23, 264]'),\n",
              " Text(0.5056179775280899, 0.8999999999999999, 'True  '),\n",
              " Text(0.3258426966292135, 0.75, 'x[23] <= 929.8\\ngini = 0.051\\nsamples = 266\\nvalue = [7, 259]'),\n",
              " Text(0.2808988764044944, 0.65, 'x[28] <= 0.161\\ngini = 0.044\\nsamples = 265\\nvalue = [6, 259]'),\n",
              " Text(0.23595505617977527, 0.55, 'gini = 0.0\\nsamples = 1\\nvalue = [1, 0]'),\n",
              " Text(0.3258426966292135, 0.55, 'x[6] <= 0.12\\ngini = 0.037\\nsamples = 264\\nvalue = [5, 259]'),\n",
              " Text(0.20224719101123595, 0.45, 'x[14] <= 0.003\\ngini = 0.023\\nsamples = 257\\nvalue = [3, 254]'),\n",
              " Text(0.0898876404494382, 0.35, 'x[21] <= 27.755\\ngini = 0.278\\nsamples = 6\\nvalue = [1, 5]'),\n",
              " Text(0.0449438202247191, 0.25, 'gini = 0.0\\nsamples = 5\\nvalue = [0, 5]'),\n",
              " Text(0.1348314606741573, 0.25, 'gini = 0.0\\nsamples = 1\\nvalue = [1, 0]'),\n",
              " Text(0.3146067415730337, 0.35, 'x[22] <= 110.25\\ngini = 0.016\\nsamples = 251\\nvalue = [2, 249]'),\n",
              " Text(0.2247191011235955, 0.25, 'x[21] <= 33.35\\ngini = 0.008\\nsamples = 245\\nvalue = [1, 244]'),\n",
              " Text(0.1797752808988764, 0.15, 'gini = 0.0\\nsamples = 233\\nvalue = [0, 233]'),\n",
              " Text(0.2696629213483146, 0.15, 'x[1] <= 23.2\\ngini = 0.153\\nsamples = 12\\nvalue = [1, 11]'),\n",
              " Text(0.2247191011235955, 0.05, 'gini = 0.0\\nsamples = 1\\nvalue = [1, 0]'),\n",
              " Text(0.3146067415730337, 0.05, 'gini = 0.0\\nsamples = 11\\nvalue = [0, 11]'),\n",
              " Text(0.4044943820224719, 0.25, 'x[2] <= 91.42\\ngini = 0.278\\nsamples = 6\\nvalue = [1, 5]'),\n",
              " Text(0.3595505617977528, 0.15, 'gini = 0.0\\nsamples = 1\\nvalue = [1, 0]'),\n",
              " Text(0.449438202247191, 0.15, 'gini = 0.0\\nsamples = 5\\nvalue = [0, 5]'),\n",
              " Text(0.449438202247191, 0.45, 'x[1] <= 21.08\\ngini = 0.408\\nsamples = 7\\nvalue = [2, 5]'),\n",
              " Text(0.4044943820224719, 0.35, 'gini = 0.0\\nsamples = 5\\nvalue = [0, 5]'),\n",
              " Text(0.4943820224719101, 0.35, 'gini = 0.0\\nsamples = 2\\nvalue = [2, 0]'),\n",
              " Text(0.3707865168539326, 0.65, 'gini = 0.0\\nsamples = 1\\nvalue = [1, 0]'),\n",
              " Text(0.5056179775280899, 0.75, 'x[4] <= 0.091\\ngini = 0.363\\nsamples = 21\\nvalue = [16, 5]'),\n",
              " Text(0.4606741573033708, 0.65, 'gini = 0.0\\nsamples = 4\\nvalue = [0, 4]'),\n",
              " Text(0.550561797752809, 0.65, 'x[13] <= 13.725\\ngini = 0.111\\nsamples = 17\\nvalue = [16, 1]'),\n",
              " Text(0.5056179775280899, 0.55, 'gini = 0.0\\nsamples = 1\\nvalue = [0, 1]'),\n",
              " Text(0.5955056179775281, 0.55, 'gini = 0.0\\nsamples = 16\\nvalue = [16, 0]'),\n",
              " Text(0.7752808988764045, 0.85, 'x[26] <= 0.191\\ngini = 0.069\\nsamples = 139\\nvalue = [134, 5]'),\n",
              " Text(0.6853932584269663, 0.8999999999999999, '  False'),\n",
              " Text(0.6853932584269663, 0.75, 'x[19] <= 0.003\\ngini = 0.375\\nsamples = 4\\nvalue = [1, 3]'),\n",
              " Text(0.6404494382022472, 0.65, 'gini = 0.0\\nsamples = 3\\nvalue = [0, 3]'),\n",
              " Text(0.7303370786516854, 0.65, 'gini = 0.0\\nsamples = 1\\nvalue = [1, 0]'),\n",
              " Text(0.8651685393258427, 0.75, 'x[18] <= 0.01\\ngini = 0.029\\nsamples = 135\\nvalue = [133, 2]'),\n",
              " Text(0.8202247191011236, 0.65, 'gini = 0.0\\nsamples = 1\\nvalue = [0, 1]'),\n",
              " Text(0.9101123595505618, 0.65, 'x[23] <= 810.1\\ngini = 0.015\\nsamples = 134\\nvalue = [133, 1]'),\n",
              " Text(0.8651685393258427, 0.55, 'x[4] <= 0.093\\ngini = 0.5\\nsamples = 2\\nvalue = [1, 1]'),\n",
              " Text(0.8202247191011236, 0.45, 'gini = 0.0\\nsamples = 1\\nvalue = [0, 1]'),\n",
              " Text(0.9101123595505618, 0.45, 'gini = 0.0\\nsamples = 1\\nvalue = [1, 0]'),\n",
              " Text(0.9550561797752809, 0.55, 'gini = 0.0\\nsamples = 132\\nvalue = [132, 0]')]"
            ]
          },
          "metadata": {},
          "execution_count": 7
        },
        {
          "output_type": "display_data",
          "data": {
            "text/plain": [
              "<Figure size 640x480 with 1 Axes>"
            ],
            "image/png": "[encoded data removed]"
          },
          "metadata": {}
        }
      ]
    },
    {
      "cell_type": "code",
      "source": [],
      "metadata": {
        "id": "v14XpdUS06Mr"
      },
      "execution_count": null,
      "outputs": []
    },
    {
      "cell_type": "markdown",
      "source": [
        "#Random Forest\n"
      ],
      "metadata": {
        "id": "8ZJUxG_2R_Ow"
      }
    },
    {
      "cell_type": "code",
      "source": [
        "X,y = load_breast_cancer(return_X_y = True)\n",
        "X_train, X_test, y_train, y_test = train_test_split(X,y, test_size = .25, random_state = 345)\n",
        "# sample = random.sample(range(0,X_train.shape[0]),100)\n",
        "# print(sample)"
      ],
      "metadata": {
        "id": "I5yry1d6SIGi"
      },
      "execution_count": null,
      "outputs": []
    },
    {
      "cell_type": "code",
      "source": [
        "class RandomForest:\n",
        "  def __init__(self, estimators = 10 ,n_samples = .5,bt_features = None, max_depth = None, min_sample_leaf = None, n_features = None , max_leaf = None):\n",
        "    self.estimators = estimators\n",
        "    self.n_samples = n_samples\n",
        "    self.bt_features = bt_features\n",
        "    self.max_depth = max_depth\n",
        "    self.min_sample_leaf = min_sample_leaf\n",
        "    self.n_features = n_features\n",
        "    self.max_leaf = max_leaf\n",
        "    self.trees = []\n",
        "\n",
        "  def fit(self, X_train, y_train):\n",
        "\n",
        "    self.trees = []\n",
        "\n",
        "    for _ in range(self.estimators):\n",
        "      tree = DecisionTree(impurity = \"gini\",  max_tree_depth = self.max_depth, min_sample_leaf = self.min_sample_leaf , n_features = self.n_features , max_leaf = self.max_leaf)\n",
        "      X_sample, y_sample = self.bootstrap(X_train,y_train)\n",
        "      tree.fit(X_sample, y_sample)\n",
        "      self.trees.append(tree)\n",
        "\n",
        "  def bootstrap(self, X,y):\n",
        "    idx_ft = []\n",
        "    idx = np.random.choice(range(0, X.shape[0]),int(X.shape[0]*self.n_samples), replace = True)\n",
        "    if (self.bt_features is not None):\n",
        "      idx_ft = np.random.choice(range(0, X.shape[1]),int(X.shape[1]*self.bt_features), replace = True)\n",
        "\n",
        "    X_sample , y_sample = X[idx], y[idx]\n",
        "    if (self.bt_features is not None):\n",
        "      X_sample = X_sample[:,idx_ft]\n",
        "\n",
        "    return X_sample,y_sample\n",
        "\n",
        "  def most_common_prediction(self,y):\n",
        "    count = Counter(y)\n",
        "    most_common = count.most_common(1)[0][0]\n",
        "    return most_common\n",
        "\n",
        "\n",
        "  def predict(self, X_test):\n",
        "    y_pred = []\n",
        "    predictions = np.array([])\n",
        "    for tree in self.trees:\n",
        "      y_pred.append(tree.predict(X_test))\n",
        "    y_pred = np.array(y_pred).T\n",
        "    for y in y_pred:\n",
        "        predictions = np.append(predictions, self.most_common_prediction(y))\n",
        "\n",
        "    return predictions\n"
      ],
      "metadata": {
        "id": "HpxAFWhmSLjl"
      },
      "execution_count": null,
      "outputs": []
    },
    {
      "cell_type": "code",
      "source": [
        "md = RandomForest(estimators = 10, max_depth = 4, min_sample_leaf = 2, max_leaf = 100, n_samples = .5, n_features = 2)\n",
        "md.fit(X_train, y_train)\n",
        "y_pred = md.predict(X_test)\n",
        "print(y_pred)\n",
        "print(accuracy_score(y_test, y_pred))\n",
        "print(f1_score(y_test, y_pred))"
      ],
      "metadata": {
        "colab": {
          "base_uri": "https://localhost:8080/"
        },
        "id": "t5PQPhpoXkW_",
        "outputId": "ed82a258-c660-4a82-e2d4-95308487839d"
      },
      "execution_count": null,
      "outputs": [
        {
          "output_type": "stream",
          "name": "stdout",
          "text": [
            "[0. 0. 1. 1. 1. 1. 1. 1. 0. 1. 1. 1. 0. 1. 1. 1. 0. 0. 1. 0. 1. 1. 1. 0.\n",
            " 1. 0. 1. 1. 1. 1. 0. 1. 1. 1. 0. 0. 1. 1. 1. 1. 1. 1. 1. 1. 0. 1. 1. 0.\n",
            " 0. 1. 0. 1. 0. 0. 0. 1. 1. 1. 1. 0. 1. 1. 0. 1. 1. 1. 1. 0. 0. 1. 0. 1.\n",
            " 0. 0. 1. 0. 0. 0. 0. 1. 0. 0. 1. 0. 0. 1. 1. 1. 1. 1. 0. 1. 0. 1. 1. 0.\n",
            " 1. 1. 0. 0. 1. 1. 1. 1. 1. 0. 0. 1. 0. 1. 0. 0. 1. 1. 0. 1. 1. 1. 0. 0.\n",
            " 0. 1. 1. 0. 1. 1. 0. 1. 0. 0. 1. 1. 1. 1. 1. 0. 1. 0. 0. 1. 1. 0. 0.]\n",
            "0.916083916083916\n",
            "0.9310344827586207\n"
          ]
        }
      ]
    },
    {
      "cell_type": "code",
      "source": [],
      "metadata": {
        "id": "TKFa4tS9Xy0L"
      },
      "execution_count": null,
      "outputs": []
    }
  ]
}